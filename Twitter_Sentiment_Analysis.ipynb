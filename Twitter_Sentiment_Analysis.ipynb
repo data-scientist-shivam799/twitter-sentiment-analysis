{
  "nbformat": 4,
  "nbformat_minor": 0,
  "metadata": {
    "colab": {
      "name": "Twitter Sentiment Analysis.ipynb",
      "provenance": [],
      "collapsed_sections": []
    },
    "kernelspec": {
      "name": "python3",
      "display_name": "Python 3"
    },
    "language_info": {
      "name": "python"
    }
  },
  "cells": [
    {
      "cell_type": "markdown",
      "source": [
        "# **Description : Sentiment Analysis Program that parses the tweets fetched from twitter**"
      ],
      "metadata": {
        "id": "jSbLUcMw6iig"
      }
    },
    {
      "cell_type": "markdown",
      "source": [
        "#**Installing required libraries**"
      ],
      "metadata": {
        "id": "AsVbHJpMt0su"
      }
    },
    {
      "cell_type": "code",
      "execution_count": 1,
      "metadata": {
        "id": "Zkl0YS9W6Slt"
      },
      "outputs": [],
      "source": [
        "# !pip install tweepy\n",
        "# !pip install textblob\n",
        "# !pip install wordcloud\n",
        "# !pip install pandas\n",
        "# !pip install numpy\n",
        "# !pip install matplotlib\n",
        "# !pip insatll re"
      ]
    },
    {
      "cell_type": "markdown",
      "source": [
        "# **Importing required libraries**"
      ],
      "metadata": {
        "id": "sfWQvF73uPU4"
      }
    },
    {
      "cell_type": "code",
      "source": [
        "import tweepy\n",
        "from textblob import TextBlob\n",
        "from wordcloud import WordCloud\n",
        "import pandas as pd\n",
        "import numpy as np\n",
        "import re\n",
        "import matplotlib.pyplot as plt\n",
        "plt.style.use('fivethirtyeight')  "
      ],
      "metadata": {
        "id": "EzxH4vbt6t4w"
      },
      "execution_count": 2,
      "outputs": []
    },
    {
      "cell_type": "markdown",
      "source": [
        "# **Loading the twitter credentials**"
      ],
      "metadata": {
        "id": "fnC1thBOun3T"
      }
    },
    {
      "cell_type": "code",
      "source": [
        "\"\"\"The twitter credentials consists of API Key, \n",
        "API Key Secret, Access Token and Access Token Secret\n",
        "and the above details can be obtained by creating a twitter account then creating a twitter app \n",
        "on the twitter developer website. The link is provide below:\n",
        "https://developer.twitter.com/\"\"\"\n",
        "log = pd.read_csv('login.csv')\n",
        "log"
      ],
      "metadata": {
        "id": "J_y2GqFz6wcc",
        "colab": {
          "base_uri": "https://localhost:8080/",
          "height": 162
        },
        "outputId": "19ed5001-ac37-493b-a0b0-efb3a69c1e96"
      },
      "execution_count": 3,
      "outputs": [
        {
          "output_type": "execute_result",
          "data": {
            "text/plain": [
              "                     api_key  \\\n",
              "0  hOqMhh7CLNzob90G1jCXeuKf7   \n",
              "\n",
              "                                      api_key_secret  \\\n",
              "0  UqIFDLu8nl3O6AjCz5ZZyEY2u2tDZaFiISunSypigxTZiA...   \n",
              "\n",
              "                                        access_token  \\\n",
              "0  1533793270513299457-Tbd1K5oR1vQN9g8AaYW1vL5Smh...   \n",
              "\n",
              "                             access_token_secret  \n",
              "0  I1bNXs4tbQKtKFuiRSLvxzmbwoy8TLAT47I3zMbSNGqNI  "
            ],
            "text/html": [
              "\n",
              "  <div id=\"df-7fb016e3-76f0-4dee-bf81-c9640c95b1bf\">\n",
              "    <div class=\"colab-df-container\">\n",
              "      <div>\n",
              "<style scoped>\n",
              "    .dataframe tbody tr th:only-of-type {\n",
              "        vertical-align: middle;\n",
              "    }\n",
              "\n",
              "    .dataframe tbody tr th {\n",
              "        vertical-align: top;\n",
              "    }\n",
              "\n",
              "    .dataframe thead th {\n",
              "        text-align: right;\n",
              "    }\n",
              "</style>\n",
              "<table border=\"1\" class=\"dataframe\">\n",
              "  <thead>\n",
              "    <tr style=\"text-align: right;\">\n",
              "      <th></th>\n",
              "      <th>api_key</th>\n",
              "      <th>api_key_secret</th>\n",
              "      <th>access_token</th>\n",
              "      <th>access_token_secret</th>\n",
              "    </tr>\n",
              "  </thead>\n",
              "  <tbody>\n",
              "    <tr>\n",
              "      <th>0</th>\n",
              "      <td>hOqMhh7CLNzob90G1jCXeuKf7</td>\n",
              "      <td>UqIFDLu8nl3O6AjCz5ZZyEY2u2tDZaFiISunSypigxTZiA...</td>\n",
              "      <td>1533793270513299457-Tbd1K5oR1vQN9g8AaYW1vL5Smh...</td>\n",
              "      <td>I1bNXs4tbQKtKFuiRSLvxzmbwoy8TLAT47I3zMbSNGqNI</td>\n",
              "    </tr>\n",
              "  </tbody>\n",
              "</table>\n",
              "</div>\n",
              "      <button class=\"colab-df-convert\" onclick=\"convertToInteractive('df-7fb016e3-76f0-4dee-bf81-c9640c95b1bf')\"\n",
              "              title=\"Convert this dataframe to an interactive table.\"\n",
              "              style=\"display:none;\">\n",
              "        \n",
              "  <svg xmlns=\"http://www.w3.org/2000/svg\" height=\"24px\"viewBox=\"0 0 24 24\"\n",
              "       width=\"24px\">\n",
              "    <path d=\"M0 0h24v24H0V0z\" fill=\"none\"/>\n",
              "    <path d=\"M18.56 5.44l.94 2.06.94-2.06 2.06-.94-2.06-.94-.94-2.06-.94 2.06-2.06.94zm-11 1L8.5 8.5l.94-2.06 2.06-.94-2.06-.94L8.5 2.5l-.94 2.06-2.06.94zm10 10l.94 2.06.94-2.06 2.06-.94-2.06-.94-.94-2.06-.94 2.06-2.06.94z\"/><path d=\"M17.41 7.96l-1.37-1.37c-.4-.4-.92-.59-1.43-.59-.52 0-1.04.2-1.43.59L10.3 9.45l-7.72 7.72c-.78.78-.78 2.05 0 2.83L4 21.41c.39.39.9.59 1.41.59.51 0 1.02-.2 1.41-.59l7.78-7.78 2.81-2.81c.8-.78.8-2.07 0-2.86zM5.41 20L4 18.59l7.72-7.72 1.47 1.35L5.41 20z\"/>\n",
              "  </svg>\n",
              "      </button>\n",
              "      \n",
              "  <style>\n",
              "    .colab-df-container {\n",
              "      display:flex;\n",
              "      flex-wrap:wrap;\n",
              "      gap: 12px;\n",
              "    }\n",
              "\n",
              "    .colab-df-convert {\n",
              "      background-color: #E8F0FE;\n",
              "      border: none;\n",
              "      border-radius: 50%;\n",
              "      cursor: pointer;\n",
              "      display: none;\n",
              "      fill: #1967D2;\n",
              "      height: 32px;\n",
              "      padding: 0 0 0 0;\n",
              "      width: 32px;\n",
              "    }\n",
              "\n",
              "    .colab-df-convert:hover {\n",
              "      background-color: #E2EBFA;\n",
              "      box-shadow: 0px 1px 2px rgba(60, 64, 67, 0.3), 0px 1px 3px 1px rgba(60, 64, 67, 0.15);\n",
              "      fill: #174EA6;\n",
              "    }\n",
              "\n",
              "    [theme=dark] .colab-df-convert {\n",
              "      background-color: #3B4455;\n",
              "      fill: #D2E3FC;\n",
              "    }\n",
              "\n",
              "    [theme=dark] .colab-df-convert:hover {\n",
              "      background-color: #434B5C;\n",
              "      box-shadow: 0px 1px 3px 1px rgba(0, 0, 0, 0.15);\n",
              "      filter: drop-shadow(0px 1px 2px rgba(0, 0, 0, 0.3));\n",
              "      fill: #FFFFFF;\n",
              "    }\n",
              "  </style>\n",
              "\n",
              "      <script>\n",
              "        const buttonEl =\n",
              "          document.querySelector('#df-7fb016e3-76f0-4dee-bf81-c9640c95b1bf button.colab-df-convert');\n",
              "        buttonEl.style.display =\n",
              "          google.colab.kernel.accessAllowed ? 'block' : 'none';\n",
              "\n",
              "        async function convertToInteractive(key) {\n",
              "          const element = document.querySelector('#df-7fb016e3-76f0-4dee-bf81-c9640c95b1bf');\n",
              "          const dataTable =\n",
              "            await google.colab.kernel.invokeFunction('convertToInteractive',\n",
              "                                                     [key], {});\n",
              "          if (!dataTable) return;\n",
              "\n",
              "          const docLinkHtml = 'Like what you see? Visit the ' +\n",
              "            '<a target=\"_blank\" href=https://colab.research.google.com/notebooks/data_table.ipynb>data table notebook</a>'\n",
              "            + ' to learn more about interactive tables.';\n",
              "          element.innerHTML = '';\n",
              "          dataTable['output_type'] = 'display_data';\n",
              "          await google.colab.output.renderOutput(dataTable, element);\n",
              "          const docLink = document.createElement('div');\n",
              "          docLink.innerHTML = docLinkHtml;\n",
              "          element.appendChild(docLink);\n",
              "        }\n",
              "      </script>\n",
              "    </div>\n",
              "  </div>\n",
              "  "
            ]
          },
          "metadata": {},
          "execution_count": 3
        }
      ]
    },
    {
      "cell_type": "markdown",
      "source": [
        "# **Loading twitter api credentials from csv file**"
      ],
      "metadata": {
        "id": "DUbJTgZqDJjs"
      }
    },
    {
      "cell_type": "code",
      "source": [
        "# Twitter Credentials\n",
        "consumerKey=log['api_key'][0]\n",
        "consumerSecret=log['api_key_secret'][0]\n",
        "accessToken=log['access_token'][0]\n",
        "accessTokenSecret=log['access_token_secret'][0]"
      ],
      "metadata": {
        "id": "7C5-1cBtBdHe"
      },
      "execution_count": 4,
      "outputs": []
    },
    {
      "cell_type": "code",
      "source": [
        "# consumerKey"
      ],
      "metadata": {
        "id": "Klxz1eG8OKUB"
      },
      "execution_count": 5,
      "outputs": []
    },
    {
      "cell_type": "markdown",
      "source": [
        "# **Authenticating**"
      ],
      "metadata": {
        "id": "wXQpE2S6DUWO"
      }
    },
    {
      "cell_type": "code",
      "source": [
        "# Create authentication object\n",
        "authenticate = tweepy.OAuthHandler(consumerKey,consumerSecret)\n",
        "\n",
        "# Set the access token\n",
        "authenticate.set_access_token(accessToken,accessTokenSecret)\n",
        "\n",
        "# Create the API object while passing in the auth information\n",
        "api=tweepy.API(authenticate,wait_on_rate_limit=True)"
      ],
      "metadata": {
        "id": "rCGkmz4mOdQs"
      },
      "execution_count": 6,
      "outputs": []
    },
    {
      "cell_type": "markdown",
      "source": [
        "# **Accessing twitter posts for Elon Musk**"
      ],
      "metadata": {
        "id": "XP3Zy3z8DZQQ"
      }
    },
    {
      "cell_type": "code",
      "source": [
        "# Extract 100 tweets from the twitter user\n",
        "posts=api.user_timeline(screen_name=\"ElonMusk\",count=100,lang=\"en\",tweet_mode=\"extended\")\n",
        "\n",
        "# Print the last 5 tweets from the Bill Gates\n",
        "print(\"Show the 5 recent tweets:\\n\")\n",
        "count=1\n",
        "\n",
        "for tweet in posts[0:5]:\n",
        "  print(str(count)+\") \"+tweet.full_text+'\\n')\n",
        "  count+=1"
      ],
      "metadata": {
        "colab": {
          "base_uri": "https://localhost:8080/"
        },
        "id": "Zkgrqn9-QuGo",
        "outputId": "d928df40-d32c-4f01-90ca-15c6e42f9465"
      },
      "execution_count": 7,
      "outputs": [
        {
          "output_type": "stream",
          "name": "stdout",
          "text": [
            "Show the 5 recent tweets:\n",
            "\n",
            "1) @historydefined If little red riding hood was on psychedelics, this whole story makes a ton of sense\n",
            "\n",
            "2) @jeremychrysler @Tesla We will look into this &amp; adjust. In general, I’d recommend against using recirc, as the range advantage is small.\n",
            "\n",
            "3) @historydefined Seems odd that anyone would mistake a talking wolf for their grandmother. What sort of octave range does that wolf have anyway!?\n",
            "\n",
            "4) @TrungTPhan 👀\n",
            "\n",
            "5) @Rainmaker1973 I think I saw these in Elden Ring\n",
            "\n"
          ]
        }
      ]
    },
    {
      "cell_type": "markdown",
      "source": [
        "# **Creating dataframe from obtained results**"
      ],
      "metadata": {
        "id": "vL_YXNWCDiuf"
      }
    },
    {
      "cell_type": "code",
      "source": [
        "# Create a dataframe with a column Tweets\n",
        "df=pd.DataFrame([tweet.full_text for tweet in posts],columns=['Tweets'])\n",
        "\n",
        "# Show the first 5 rows of data\n",
        "df.head()"
      ],
      "metadata": {
        "id": "RMmsj-iGUj58",
        "colab": {
          "base_uri": "https://localhost:8080/",
          "height": 206
        },
        "outputId": "18b954a8-220b-4bab-e270-06b4be94ccc3"
      },
      "execution_count": 8,
      "outputs": [
        {
          "output_type": "execute_result",
          "data": {
            "text/plain": [
              "                                              Tweets\n",
              "0  @historydefined If little red riding hood was ...\n",
              "1  @jeremychrysler @Tesla We will look into this ...\n",
              "2  @historydefined Seems odd that anyone would mi...\n",
              "3                                      @TrungTPhan 👀\n",
              "4   @Rainmaker1973 I think I saw these in Elden Ring"
            ],
            "text/html": [
              "\n",
              "  <div id=\"df-0922a6a3-eca4-428c-8c4a-5cf4c7fc1b53\">\n",
              "    <div class=\"colab-df-container\">\n",
              "      <div>\n",
              "<style scoped>\n",
              "    .dataframe tbody tr th:only-of-type {\n",
              "        vertical-align: middle;\n",
              "    }\n",
              "\n",
              "    .dataframe tbody tr th {\n",
              "        vertical-align: top;\n",
              "    }\n",
              "\n",
              "    .dataframe thead th {\n",
              "        text-align: right;\n",
              "    }\n",
              "</style>\n",
              "<table border=\"1\" class=\"dataframe\">\n",
              "  <thead>\n",
              "    <tr style=\"text-align: right;\">\n",
              "      <th></th>\n",
              "      <th>Tweets</th>\n",
              "    </tr>\n",
              "  </thead>\n",
              "  <tbody>\n",
              "    <tr>\n",
              "      <th>0</th>\n",
              "      <td>@historydefined If little red riding hood was ...</td>\n",
              "    </tr>\n",
              "    <tr>\n",
              "      <th>1</th>\n",
              "      <td>@jeremychrysler @Tesla We will look into this ...</td>\n",
              "    </tr>\n",
              "    <tr>\n",
              "      <th>2</th>\n",
              "      <td>@historydefined Seems odd that anyone would mi...</td>\n",
              "    </tr>\n",
              "    <tr>\n",
              "      <th>3</th>\n",
              "      <td>@TrungTPhan 👀</td>\n",
              "    </tr>\n",
              "    <tr>\n",
              "      <th>4</th>\n",
              "      <td>@Rainmaker1973 I think I saw these in Elden Ring</td>\n",
              "    </tr>\n",
              "  </tbody>\n",
              "</table>\n",
              "</div>\n",
              "      <button class=\"colab-df-convert\" onclick=\"convertToInteractive('df-0922a6a3-eca4-428c-8c4a-5cf4c7fc1b53')\"\n",
              "              title=\"Convert this dataframe to an interactive table.\"\n",
              "              style=\"display:none;\">\n",
              "        \n",
              "  <svg xmlns=\"http://www.w3.org/2000/svg\" height=\"24px\"viewBox=\"0 0 24 24\"\n",
              "       width=\"24px\">\n",
              "    <path d=\"M0 0h24v24H0V0z\" fill=\"none\"/>\n",
              "    <path d=\"M18.56 5.44l.94 2.06.94-2.06 2.06-.94-2.06-.94-.94-2.06-.94 2.06-2.06.94zm-11 1L8.5 8.5l.94-2.06 2.06-.94-2.06-.94L8.5 2.5l-.94 2.06-2.06.94zm10 10l.94 2.06.94-2.06 2.06-.94-2.06-.94-.94-2.06-.94 2.06-2.06.94z\"/><path d=\"M17.41 7.96l-1.37-1.37c-.4-.4-.92-.59-1.43-.59-.52 0-1.04.2-1.43.59L10.3 9.45l-7.72 7.72c-.78.78-.78 2.05 0 2.83L4 21.41c.39.39.9.59 1.41.59.51 0 1.02-.2 1.41-.59l7.78-7.78 2.81-2.81c.8-.78.8-2.07 0-2.86zM5.41 20L4 18.59l7.72-7.72 1.47 1.35L5.41 20z\"/>\n",
              "  </svg>\n",
              "      </button>\n",
              "      \n",
              "  <style>\n",
              "    .colab-df-container {\n",
              "      display:flex;\n",
              "      flex-wrap:wrap;\n",
              "      gap: 12px;\n",
              "    }\n",
              "\n",
              "    .colab-df-convert {\n",
              "      background-color: #E8F0FE;\n",
              "      border: none;\n",
              "      border-radius: 50%;\n",
              "      cursor: pointer;\n",
              "      display: none;\n",
              "      fill: #1967D2;\n",
              "      height: 32px;\n",
              "      padding: 0 0 0 0;\n",
              "      width: 32px;\n",
              "    }\n",
              "\n",
              "    .colab-df-convert:hover {\n",
              "      background-color: #E2EBFA;\n",
              "      box-shadow: 0px 1px 2px rgba(60, 64, 67, 0.3), 0px 1px 3px 1px rgba(60, 64, 67, 0.15);\n",
              "      fill: #174EA6;\n",
              "    }\n",
              "\n",
              "    [theme=dark] .colab-df-convert {\n",
              "      background-color: #3B4455;\n",
              "      fill: #D2E3FC;\n",
              "    }\n",
              "\n",
              "    [theme=dark] .colab-df-convert:hover {\n",
              "      background-color: #434B5C;\n",
              "      box-shadow: 0px 1px 3px 1px rgba(0, 0, 0, 0.15);\n",
              "      filter: drop-shadow(0px 1px 2px rgba(0, 0, 0, 0.3));\n",
              "      fill: #FFFFFF;\n",
              "    }\n",
              "  </style>\n",
              "\n",
              "      <script>\n",
              "        const buttonEl =\n",
              "          document.querySelector('#df-0922a6a3-eca4-428c-8c4a-5cf4c7fc1b53 button.colab-df-convert');\n",
              "        buttonEl.style.display =\n",
              "          google.colab.kernel.accessAllowed ? 'block' : 'none';\n",
              "\n",
              "        async function convertToInteractive(key) {\n",
              "          const element = document.querySelector('#df-0922a6a3-eca4-428c-8c4a-5cf4c7fc1b53');\n",
              "          const dataTable =\n",
              "            await google.colab.kernel.invokeFunction('convertToInteractive',\n",
              "                                                     [key], {});\n",
              "          if (!dataTable) return;\n",
              "\n",
              "          const docLinkHtml = 'Like what you see? Visit the ' +\n",
              "            '<a target=\"_blank\" href=https://colab.research.google.com/notebooks/data_table.ipynb>data table notebook</a>'\n",
              "            + ' to learn more about interactive tables.';\n",
              "          element.innerHTML = '';\n",
              "          dataTable['output_type'] = 'display_data';\n",
              "          await google.colab.output.renderOutput(dataTable, element);\n",
              "          const docLink = document.createElement('div');\n",
              "          docLink.innerHTML = docLinkHtml;\n",
              "          element.appendChild(docLink);\n",
              "        }\n",
              "      </script>\n",
              "    </div>\n",
              "  </div>\n",
              "  "
            ]
          },
          "metadata": {},
          "execution_count": 8
        }
      ]
    },
    {
      "cell_type": "markdown",
      "source": [
        "# **Data Preprocessing**"
      ],
      "metadata": {
        "id": "IY_mT0cwDoM2"
      }
    },
    {
      "cell_type": "code",
      "source": [
        "# Clean the text\n",
        "# Creating a function to clean the tweets\n",
        "\n",
        "def cleanText(txt):\n",
        "  # removing @mentions\n",
        "  text=re.sub(r'@[A-Za-z0-9]+','',txt)\n",
        "  # removing hastag symbol\n",
        "  text=re.sub(r'@#','',text)\n",
        "  # removing ReTweets\n",
        "  text=re.sub(r'RT[\\s]+','',text)\n",
        "  # removing the hyperlink\n",
        "  text=re.sub(r'https:\\/\\S+','',text)\n",
        "  return text"
      ],
      "metadata": {
        "id": "7gEYX-sCg7j-"
      },
      "execution_count": 9,
      "outputs": []
    },
    {
      "cell_type": "code",
      "source": [
        "# Cleaning the text\n",
        "df['Tweets']=df['Tweets'].apply(cleanText)\n",
        "\n",
        "# Showing the clean data\n",
        "df.head()"
      ],
      "metadata": {
        "colab": {
          "base_uri": "https://localhost:8080/",
          "height": 206
        },
        "id": "U-CC8HK1hcEC",
        "outputId": "bb8d0b1c-c3c0-497d-c881-4d85d8062d19"
      },
      "execution_count": 10,
      "outputs": [
        {
          "output_type": "execute_result",
          "data": {
            "text/plain": [
              "                                              Tweets\n",
              "0   If little red riding hood was on psychedelics...\n",
              "1    We will look into this &amp; adjust. In gene...\n",
              "2   Seems odd that anyone would mistake a talking...\n",
              "3                                                  👀\n",
              "4                  I think I saw these in Elden Ring"
            ],
            "text/html": [
              "\n",
              "  <div id=\"df-fafa2c44-5cd4-4532-bd73-40b5cd5eb5d5\">\n",
              "    <div class=\"colab-df-container\">\n",
              "      <div>\n",
              "<style scoped>\n",
              "    .dataframe tbody tr th:only-of-type {\n",
              "        vertical-align: middle;\n",
              "    }\n",
              "\n",
              "    .dataframe tbody tr th {\n",
              "        vertical-align: top;\n",
              "    }\n",
              "\n",
              "    .dataframe thead th {\n",
              "        text-align: right;\n",
              "    }\n",
              "</style>\n",
              "<table border=\"1\" class=\"dataframe\">\n",
              "  <thead>\n",
              "    <tr style=\"text-align: right;\">\n",
              "      <th></th>\n",
              "      <th>Tweets</th>\n",
              "    </tr>\n",
              "  </thead>\n",
              "  <tbody>\n",
              "    <tr>\n",
              "      <th>0</th>\n",
              "      <td>If little red riding hood was on psychedelics...</td>\n",
              "    </tr>\n",
              "    <tr>\n",
              "      <th>1</th>\n",
              "      <td>We will look into this &amp;amp; adjust. In gene...</td>\n",
              "    </tr>\n",
              "    <tr>\n",
              "      <th>2</th>\n",
              "      <td>Seems odd that anyone would mistake a talking...</td>\n",
              "    </tr>\n",
              "    <tr>\n",
              "      <th>3</th>\n",
              "      <td>👀</td>\n",
              "    </tr>\n",
              "    <tr>\n",
              "      <th>4</th>\n",
              "      <td>I think I saw these in Elden Ring</td>\n",
              "    </tr>\n",
              "  </tbody>\n",
              "</table>\n",
              "</div>\n",
              "      <button class=\"colab-df-convert\" onclick=\"convertToInteractive('df-fafa2c44-5cd4-4532-bd73-40b5cd5eb5d5')\"\n",
              "              title=\"Convert this dataframe to an interactive table.\"\n",
              "              style=\"display:none;\">\n",
              "        \n",
              "  <svg xmlns=\"http://www.w3.org/2000/svg\" height=\"24px\"viewBox=\"0 0 24 24\"\n",
              "       width=\"24px\">\n",
              "    <path d=\"M0 0h24v24H0V0z\" fill=\"none\"/>\n",
              "    <path d=\"M18.56 5.44l.94 2.06.94-2.06 2.06-.94-2.06-.94-.94-2.06-.94 2.06-2.06.94zm-11 1L8.5 8.5l.94-2.06 2.06-.94-2.06-.94L8.5 2.5l-.94 2.06-2.06.94zm10 10l.94 2.06.94-2.06 2.06-.94-2.06-.94-.94-2.06-.94 2.06-2.06.94z\"/><path d=\"M17.41 7.96l-1.37-1.37c-.4-.4-.92-.59-1.43-.59-.52 0-1.04.2-1.43.59L10.3 9.45l-7.72 7.72c-.78.78-.78 2.05 0 2.83L4 21.41c.39.39.9.59 1.41.59.51 0 1.02-.2 1.41-.59l7.78-7.78 2.81-2.81c.8-.78.8-2.07 0-2.86zM5.41 20L4 18.59l7.72-7.72 1.47 1.35L5.41 20z\"/>\n",
              "  </svg>\n",
              "      </button>\n",
              "      \n",
              "  <style>\n",
              "    .colab-df-container {\n",
              "      display:flex;\n",
              "      flex-wrap:wrap;\n",
              "      gap: 12px;\n",
              "    }\n",
              "\n",
              "    .colab-df-convert {\n",
              "      background-color: #E8F0FE;\n",
              "      border: none;\n",
              "      border-radius: 50%;\n",
              "      cursor: pointer;\n",
              "      display: none;\n",
              "      fill: #1967D2;\n",
              "      height: 32px;\n",
              "      padding: 0 0 0 0;\n",
              "      width: 32px;\n",
              "    }\n",
              "\n",
              "    .colab-df-convert:hover {\n",
              "      background-color: #E2EBFA;\n",
              "      box-shadow: 0px 1px 2px rgba(60, 64, 67, 0.3), 0px 1px 3px 1px rgba(60, 64, 67, 0.15);\n",
              "      fill: #174EA6;\n",
              "    }\n",
              "\n",
              "    [theme=dark] .colab-df-convert {\n",
              "      background-color: #3B4455;\n",
              "      fill: #D2E3FC;\n",
              "    }\n",
              "\n",
              "    [theme=dark] .colab-df-convert:hover {\n",
              "      background-color: #434B5C;\n",
              "      box-shadow: 0px 1px 3px 1px rgba(0, 0, 0, 0.15);\n",
              "      filter: drop-shadow(0px 1px 2px rgba(0, 0, 0, 0.3));\n",
              "      fill: #FFFFFF;\n",
              "    }\n",
              "  </style>\n",
              "\n",
              "      <script>\n",
              "        const buttonEl =\n",
              "          document.querySelector('#df-fafa2c44-5cd4-4532-bd73-40b5cd5eb5d5 button.colab-df-convert');\n",
              "        buttonEl.style.display =\n",
              "          google.colab.kernel.accessAllowed ? 'block' : 'none';\n",
              "\n",
              "        async function convertToInteractive(key) {\n",
              "          const element = document.querySelector('#df-fafa2c44-5cd4-4532-bd73-40b5cd5eb5d5');\n",
              "          const dataTable =\n",
              "            await google.colab.kernel.invokeFunction('convertToInteractive',\n",
              "                                                     [key], {});\n",
              "          if (!dataTable) return;\n",
              "\n",
              "          const docLinkHtml = 'Like what you see? Visit the ' +\n",
              "            '<a target=\"_blank\" href=https://colab.research.google.com/notebooks/data_table.ipynb>data table notebook</a>'\n",
              "            + ' to learn more about interactive tables.';\n",
              "          element.innerHTML = '';\n",
              "          dataTable['output_type'] = 'display_data';\n",
              "          await google.colab.output.renderOutput(dataTable, element);\n",
              "          const docLink = document.createElement('div');\n",
              "          docLink.innerHTML = docLinkHtml;\n",
              "          element.appendChild(docLink);\n",
              "        }\n",
              "      </script>\n",
              "    </div>\n",
              "  </div>\n",
              "  "
            ]
          },
          "metadata": {},
          "execution_count": 10
        }
      ]
    },
    {
      "cell_type": "markdown",
      "source": [
        "# **Calculating Subjectivity & Polarity**"
      ],
      "metadata": {
        "id": "gsCy-RriDtCR"
      }
    },
    {
      "cell_type": "code",
      "source": [
        "# Create a function to get subjectivity\n",
        "def getSubjectivity(text):\n",
        "    return TextBlob(text).sentiment.subjectivity\n",
        "\n",
        "# Create a function to get polarity\n",
        "def getPolarity(text):\n",
        "    return TextBlob(text).sentiment.polarity\n",
        "\n",
        "# Creating two new features for subjectivity and polarity\n",
        "df['Subjectivity']=df['Tweets'].apply(getSubjectivity)\n",
        "df['Polarity']=df['Tweets'].apply(getPolarity)"
      ],
      "metadata": {
        "id": "Q3uKO_QtldSe"
      },
      "execution_count": 11,
      "outputs": []
    },
    {
      "cell_type": "code",
      "source": [
        "# Showing the created dataframe\n",
        "df.head()"
      ],
      "metadata": {
        "colab": {
          "base_uri": "https://localhost:8080/",
          "height": 206
        },
        "id": "lVobJodJsovB",
        "outputId": "53372727-4a39-4d2e-a88f-569eee0bdee4"
      },
      "execution_count": 12,
      "outputs": [
        {
          "output_type": "execute_result",
          "data": {
            "text/plain": [
              "                                              Tweets  Subjectivity  Polarity\n",
              "0   If little red riding hood was on psychedelics...          0.30  0.004167\n",
              "1    We will look into this &amp; adjust. In gene...          0.45 -0.100000\n",
              "2   Seems odd that anyone would mistake a talking...          0.25 -0.208333\n",
              "3                                                  👀          0.00  0.000000\n",
              "4                  I think I saw these in Elden Ring          0.00  0.000000"
            ],
            "text/html": [
              "\n",
              "  <div id=\"df-3494d0a6-4eff-4d2f-b355-4b61aeb5601e\">\n",
              "    <div class=\"colab-df-container\">\n",
              "      <div>\n",
              "<style scoped>\n",
              "    .dataframe tbody tr th:only-of-type {\n",
              "        vertical-align: middle;\n",
              "    }\n",
              "\n",
              "    .dataframe tbody tr th {\n",
              "        vertical-align: top;\n",
              "    }\n",
              "\n",
              "    .dataframe thead th {\n",
              "        text-align: right;\n",
              "    }\n",
              "</style>\n",
              "<table border=\"1\" class=\"dataframe\">\n",
              "  <thead>\n",
              "    <tr style=\"text-align: right;\">\n",
              "      <th></th>\n",
              "      <th>Tweets</th>\n",
              "      <th>Subjectivity</th>\n",
              "      <th>Polarity</th>\n",
              "    </tr>\n",
              "  </thead>\n",
              "  <tbody>\n",
              "    <tr>\n",
              "      <th>0</th>\n",
              "      <td>If little red riding hood was on psychedelics...</td>\n",
              "      <td>0.30</td>\n",
              "      <td>0.004167</td>\n",
              "    </tr>\n",
              "    <tr>\n",
              "      <th>1</th>\n",
              "      <td>We will look into this &amp;amp; adjust. In gene...</td>\n",
              "      <td>0.45</td>\n",
              "      <td>-0.100000</td>\n",
              "    </tr>\n",
              "    <tr>\n",
              "      <th>2</th>\n",
              "      <td>Seems odd that anyone would mistake a talking...</td>\n",
              "      <td>0.25</td>\n",
              "      <td>-0.208333</td>\n",
              "    </tr>\n",
              "    <tr>\n",
              "      <th>3</th>\n",
              "      <td>👀</td>\n",
              "      <td>0.00</td>\n",
              "      <td>0.000000</td>\n",
              "    </tr>\n",
              "    <tr>\n",
              "      <th>4</th>\n",
              "      <td>I think I saw these in Elden Ring</td>\n",
              "      <td>0.00</td>\n",
              "      <td>0.000000</td>\n",
              "    </tr>\n",
              "  </tbody>\n",
              "</table>\n",
              "</div>\n",
              "      <button class=\"colab-df-convert\" onclick=\"convertToInteractive('df-3494d0a6-4eff-4d2f-b355-4b61aeb5601e')\"\n",
              "              title=\"Convert this dataframe to an interactive table.\"\n",
              "              style=\"display:none;\">\n",
              "        \n",
              "  <svg xmlns=\"http://www.w3.org/2000/svg\" height=\"24px\"viewBox=\"0 0 24 24\"\n",
              "       width=\"24px\">\n",
              "    <path d=\"M0 0h24v24H0V0z\" fill=\"none\"/>\n",
              "    <path d=\"M18.56 5.44l.94 2.06.94-2.06 2.06-.94-2.06-.94-.94-2.06-.94 2.06-2.06.94zm-11 1L8.5 8.5l.94-2.06 2.06-.94-2.06-.94L8.5 2.5l-.94 2.06-2.06.94zm10 10l.94 2.06.94-2.06 2.06-.94-2.06-.94-.94-2.06-.94 2.06-2.06.94z\"/><path d=\"M17.41 7.96l-1.37-1.37c-.4-.4-.92-.59-1.43-.59-.52 0-1.04.2-1.43.59L10.3 9.45l-7.72 7.72c-.78.78-.78 2.05 0 2.83L4 21.41c.39.39.9.59 1.41.59.51 0 1.02-.2 1.41-.59l7.78-7.78 2.81-2.81c.8-.78.8-2.07 0-2.86zM5.41 20L4 18.59l7.72-7.72 1.47 1.35L5.41 20z\"/>\n",
              "  </svg>\n",
              "      </button>\n",
              "      \n",
              "  <style>\n",
              "    .colab-df-container {\n",
              "      display:flex;\n",
              "      flex-wrap:wrap;\n",
              "      gap: 12px;\n",
              "    }\n",
              "\n",
              "    .colab-df-convert {\n",
              "      background-color: #E8F0FE;\n",
              "      border: none;\n",
              "      border-radius: 50%;\n",
              "      cursor: pointer;\n",
              "      display: none;\n",
              "      fill: #1967D2;\n",
              "      height: 32px;\n",
              "      padding: 0 0 0 0;\n",
              "      width: 32px;\n",
              "    }\n",
              "\n",
              "    .colab-df-convert:hover {\n",
              "      background-color: #E2EBFA;\n",
              "      box-shadow: 0px 1px 2px rgba(60, 64, 67, 0.3), 0px 1px 3px 1px rgba(60, 64, 67, 0.15);\n",
              "      fill: #174EA6;\n",
              "    }\n",
              "\n",
              "    [theme=dark] .colab-df-convert {\n",
              "      background-color: #3B4455;\n",
              "      fill: #D2E3FC;\n",
              "    }\n",
              "\n",
              "    [theme=dark] .colab-df-convert:hover {\n",
              "      background-color: #434B5C;\n",
              "      box-shadow: 0px 1px 3px 1px rgba(0, 0, 0, 0.15);\n",
              "      filter: drop-shadow(0px 1px 2px rgba(0, 0, 0, 0.3));\n",
              "      fill: #FFFFFF;\n",
              "    }\n",
              "  </style>\n",
              "\n",
              "      <script>\n",
              "        const buttonEl =\n",
              "          document.querySelector('#df-3494d0a6-4eff-4d2f-b355-4b61aeb5601e button.colab-df-convert');\n",
              "        buttonEl.style.display =\n",
              "          google.colab.kernel.accessAllowed ? 'block' : 'none';\n",
              "\n",
              "        async function convertToInteractive(key) {\n",
              "          const element = document.querySelector('#df-3494d0a6-4eff-4d2f-b355-4b61aeb5601e');\n",
              "          const dataTable =\n",
              "            await google.colab.kernel.invokeFunction('convertToInteractive',\n",
              "                                                     [key], {});\n",
              "          if (!dataTable) return;\n",
              "\n",
              "          const docLinkHtml = 'Like what you see? Visit the ' +\n",
              "            '<a target=\"_blank\" href=https://colab.research.google.com/notebooks/data_table.ipynb>data table notebook</a>'\n",
              "            + ' to learn more about interactive tables.';\n",
              "          element.innerHTML = '';\n",
              "          dataTable['output_type'] = 'display_data';\n",
              "          await google.colab.output.renderOutput(dataTable, element);\n",
              "          const docLink = document.createElement('div');\n",
              "          docLink.innerHTML = docLinkHtml;\n",
              "          element.appendChild(docLink);\n",
              "        }\n",
              "      </script>\n",
              "    </div>\n",
              "  </div>\n",
              "  "
            ]
          },
          "metadata": {},
          "execution_count": 12
        }
      ]
    },
    {
      "cell_type": "markdown",
      "source": [
        "# **Plotting on WordCloud**"
      ],
      "metadata": {
        "id": "l6h1Z8UrEBc8"
      }
    },
    {
      "cell_type": "code",
      "source": [
        "# Plot The Word Cloud\n",
        "allWords=''.join([twts for twts in df['Tweets']])\n",
        "wordCloud=WordCloud(width=500,height=300,random_state=21,max_font_size=119).generate(allWords)\n",
        "\n",
        "plt.imshow(wordCloud,interpolation='bilinear')\n",
        "plt.axis('off')\n",
        "plt.show()"
      ],
      "metadata": {
        "id": "IOTaO84es3Sm",
        "colab": {
          "base_uri": "https://localhost:8080/",
          "height": 256
        },
        "outputId": "d27e4aa5-e396-48f6-b260-063395d10f43"
      },
      "execution_count": 13,
      "outputs": [
        {
          "output_type": "display_data",
          "data": {
            "text/plain": [
              "<Figure size 432x288 with 1 Axes>"
            ],
            "image/png": "[encoded data removed]"
          },
          "metadata": {}
        }
      ]
    },
    {
      "cell_type": "markdown",
      "source": [
        "# **Calculating positive, negative and neutral responses**"
      ],
      "metadata": {
        "id": "M5CcaddtEFON"
      }
    },
    {
      "cell_type": "code",
      "source": [
        "# Create a function to compute the negative, neutral and positive analysis\n",
        "def getAnalysis(score):\n",
        "    if score>0: \n",
        "        return 'Positive'\n",
        "    elif score==0:\n",
        "        return 'Neutral'\n",
        "    else:\n",
        "        return 'Negative'\n",
        "\n",
        "# Creating new feature called Analysis for the response of tweets\n",
        "df['Analysis']=df['Polarity'].apply(getAnalysis)"
      ],
      "metadata": {
        "id": "g3IIgDCfw-YP"
      },
      "execution_count": 14,
      "outputs": []
    },
    {
      "cell_type": "code",
      "source": [
        "# Showing the analysis of the tweets, whether they are positive, negative or neutral\n",
        "df.head()"
      ],
      "metadata": {
        "colab": {
          "base_uri": "https://localhost:8080/",
          "height": 206
        },
        "id": "Fd5mAAa60hUk",
        "outputId": "167a083a-31f0-43aa-e602-12ff69990192"
      },
      "execution_count": 15,
      "outputs": [
        {
          "output_type": "execute_result",
          "data": {
            "text/plain": [
              "                                              Tweets  Subjectivity  Polarity  \\\n",
              "0   If little red riding hood was on psychedelics...          0.30  0.004167   \n",
              "1    We will look into this &amp; adjust. In gene...          0.45 -0.100000   \n",
              "2   Seems odd that anyone would mistake a talking...          0.25 -0.208333   \n",
              "3                                                  👀          0.00  0.000000   \n",
              "4                  I think I saw these in Elden Ring          0.00  0.000000   \n",
              "\n",
              "   Analysis  \n",
              "0  Positive  \n",
              "1  Negative  \n",
              "2  Negative  \n",
              "3   Neutral  \n",
              "4   Neutral  "
            ],
            "text/html": [
              "\n",
              "  <div id=\"df-e44dc87b-054d-4688-bbd9-6bf22aec905e\">\n",
              "    <div class=\"colab-df-container\">\n",
              "      <div>\n",
              "<style scoped>\n",
              "    .dataframe tbody tr th:only-of-type {\n",
              "        vertical-align: middle;\n",
              "    }\n",
              "\n",
              "    .dataframe tbody tr th {\n",
              "        vertical-align: top;\n",
              "    }\n",
              "\n",
              "    .dataframe thead th {\n",
              "        text-align: right;\n",
              "    }\n",
              "</style>\n",
              "<table border=\"1\" class=\"dataframe\">\n",
              "  <thead>\n",
              "    <tr style=\"text-align: right;\">\n",
              "      <th></th>\n",
              "      <th>Tweets</th>\n",
              "      <th>Subjectivity</th>\n",
              "      <th>Polarity</th>\n",
              "      <th>Analysis</th>\n",
              "    </tr>\n",
              "  </thead>\n",
              "  <tbody>\n",
              "    <tr>\n",
              "      <th>0</th>\n",
              "      <td>If little red riding hood was on psychedelics...</td>\n",
              "      <td>0.30</td>\n",
              "      <td>0.004167</td>\n",
              "      <td>Positive</td>\n",
              "    </tr>\n",
              "    <tr>\n",
              "      <th>1</th>\n",
              "      <td>We will look into this &amp;amp; adjust. In gene...</td>\n",
              "      <td>0.45</td>\n",
              "      <td>-0.100000</td>\n",
              "      <td>Negative</td>\n",
              "    </tr>\n",
              "    <tr>\n",
              "      <th>2</th>\n",
              "      <td>Seems odd that anyone would mistake a talking...</td>\n",
              "      <td>0.25</td>\n",
              "      <td>-0.208333</td>\n",
              "      <td>Negative</td>\n",
              "    </tr>\n",
              "    <tr>\n",
              "      <th>3</th>\n",
              "      <td>👀</td>\n",
              "      <td>0.00</td>\n",
              "      <td>0.000000</td>\n",
              "      <td>Neutral</td>\n",
              "    </tr>\n",
              "    <tr>\n",
              "      <th>4</th>\n",
              "      <td>I think I saw these in Elden Ring</td>\n",
              "      <td>0.00</td>\n",
              "      <td>0.000000</td>\n",
              "      <td>Neutral</td>\n",
              "    </tr>\n",
              "  </tbody>\n",
              "</table>\n",
              "</div>\n",
              "      <button class=\"colab-df-convert\" onclick=\"convertToInteractive('df-e44dc87b-054d-4688-bbd9-6bf22aec905e')\"\n",
              "              title=\"Convert this dataframe to an interactive table.\"\n",
              "              style=\"display:none;\">\n",
              "        \n",
              "  <svg xmlns=\"http://www.w3.org/2000/svg\" height=\"24px\"viewBox=\"0 0 24 24\"\n",
              "       width=\"24px\">\n",
              "    <path d=\"M0 0h24v24H0V0z\" fill=\"none\"/>\n",
              "    <path d=\"M18.56 5.44l.94 2.06.94-2.06 2.06-.94-2.06-.94-.94-2.06-.94 2.06-2.06.94zm-11 1L8.5 8.5l.94-2.06 2.06-.94-2.06-.94L8.5 2.5l-.94 2.06-2.06.94zm10 10l.94 2.06.94-2.06 2.06-.94-2.06-.94-.94-2.06-.94 2.06-2.06.94z\"/><path d=\"M17.41 7.96l-1.37-1.37c-.4-.4-.92-.59-1.43-.59-.52 0-1.04.2-1.43.59L10.3 9.45l-7.72 7.72c-.78.78-.78 2.05 0 2.83L4 21.41c.39.39.9.59 1.41.59.51 0 1.02-.2 1.41-.59l7.78-7.78 2.81-2.81c.8-.78.8-2.07 0-2.86zM5.41 20L4 18.59l7.72-7.72 1.47 1.35L5.41 20z\"/>\n",
              "  </svg>\n",
              "      </button>\n",
              "      \n",
              "  <style>\n",
              "    .colab-df-container {\n",
              "      display:flex;\n",
              "      flex-wrap:wrap;\n",
              "      gap: 12px;\n",
              "    }\n",
              "\n",
              "    .colab-df-convert {\n",
              "      background-color: #E8F0FE;\n",
              "      border: none;\n",
              "      border-radius: 50%;\n",
              "      cursor: pointer;\n",
              "      display: none;\n",
              "      fill: #1967D2;\n",
              "      height: 32px;\n",
              "      padding: 0 0 0 0;\n",
              "      width: 32px;\n",
              "    }\n",
              "\n",
              "    .colab-df-convert:hover {\n",
              "      background-color: #E2EBFA;\n",
              "      box-shadow: 0px 1px 2px rgba(60, 64, 67, 0.3), 0px 1px 3px 1px rgba(60, 64, 67, 0.15);\n",
              "      fill: #174EA6;\n",
              "    }\n",
              "\n",
              "    [theme=dark] .colab-df-convert {\n",
              "      background-color: #3B4455;\n",
              "      fill: #D2E3FC;\n",
              "    }\n",
              "\n",
              "    [theme=dark] .colab-df-convert:hover {\n",
              "      background-color: #434B5C;\n",
              "      box-shadow: 0px 1px 3px 1px rgba(0, 0, 0, 0.15);\n",
              "      filter: drop-shadow(0px 1px 2px rgba(0, 0, 0, 0.3));\n",
              "      fill: #FFFFFF;\n",
              "    }\n",
              "  </style>\n",
              "\n",
              "      <script>\n",
              "        const buttonEl =\n",
              "          document.querySelector('#df-e44dc87b-054d-4688-bbd9-6bf22aec905e button.colab-df-convert');\n",
              "        buttonEl.style.display =\n",
              "          google.colab.kernel.accessAllowed ? 'block' : 'none';\n",
              "\n",
              "        async function convertToInteractive(key) {\n",
              "          const element = document.querySelector('#df-e44dc87b-054d-4688-bbd9-6bf22aec905e');\n",
              "          const dataTable =\n",
              "            await google.colab.kernel.invokeFunction('convertToInteractive',\n",
              "                                                     [key], {});\n",
              "          if (!dataTable) return;\n",
              "\n",
              "          const docLinkHtml = 'Like what you see? Visit the ' +\n",
              "            '<a target=\"_blank\" href=https://colab.research.google.com/notebooks/data_table.ipynb>data table notebook</a>'\n",
              "            + ' to learn more about interactive tables.';\n",
              "          element.innerHTML = '';\n",
              "          dataTable['output_type'] = 'display_data';\n",
              "          await google.colab.output.renderOutput(dataTable, element);\n",
              "          const docLink = document.createElement('div');\n",
              "          docLink.innerHTML = docLinkHtml;\n",
              "          element.appendChild(docLink);\n",
              "        }\n",
              "      </script>\n",
              "    </div>\n",
              "  </div>\n",
              "  "
            ]
          },
          "metadata": {},
          "execution_count": 15
        }
      ]
    },
    {
      "cell_type": "markdown",
      "source": [
        "# **Printing all the positive, negative and neutral tweets**"
      ],
      "metadata": {
        "id": "iWBao4TlEPxW"
      }
    },
    {
      "cell_type": "code",
      "source": [
        "# Printing all the positive tweets\n",
        "sortedDf=df.sort_values(by=['Polarity'])\n",
        "\n",
        "count=1\n",
        "for i in range(len(sortedDf)):\n",
        "    if sortedDf['Analysis'][i]=='Positive':\n",
        "        print(str(count)+') '+sortedDf['Tweets'][i]+'\\n')\n",
        "        count+=1"
      ],
      "metadata": {
        "colab": {
          "base_uri": "https://localhost:8080/"
        },
        "id": "bBdfiaeT0sWm",
        "outputId": "55523da3-c8bc-4aef-9a00-0c93a7f00c92"
      },
      "execution_count": 16,
      "outputs": [
        {
          "output_type": "stream",
          "name": "stdout",
          "text": [
            "1)  If little red riding hood was on psychedelics, this whole story makes a ton of sense\n",
            "\n",
            "2)  True haha\n",
            "\n",
            "3) _ Yeah, exactly. Also, other companies are using the Tesla name for solar and Powerwall. Will put a stop to that.\n",
            "\n",
            "4)  It will be our best product ever imo\n",
            "\n",
            "5)  _Boeree There are still some great journalists at WaPo, but the trend is super bad\n",
            "\n",
            "6) _Future Most people still think China has a one-child policy. \n",
            "\n",
            "China had its lowest birthdate ever last year, despite having a three-child policy!\n",
            "\n",
            "At current birth rates, China will lose ~40% of people every generation!\n",
            "\n",
            "Population collapse.\n",
            "\n",
            "7) From Shakespeare’s The Tempest, but I much prefer it literally vs ironically\n",
            "\n",
            "8) O wonder!\n",
            "How many goodly creatures are there here!\n",
            "How beauteous mankind is! O brave new world,\n",
            "That has such people in't.\n",
            "\n",
            "9)   Earth could sustain many times its current human population and the ecosystem would be fine. We definitely don’t have “too many people”.\n",
            "\n",
            "10)  This sounds promising\n",
            "\n",
            "11)  Build 1000+ Starships to transport life to Mars. Basically, (very) modern Noah’s Arks.\n",
            "\n",
            "12) _com Accurate\n",
            "\n",
            "13)   10.13 will solve your left turn most of the time\n",
            "\n",
            "14)  Yes, car will navigate to a pin location, even if in a complex surface parking lot or hotel entrance.\n",
            "\n",
            "When in covered or underground parking lots, car will have to navigate using only inertial measurement, wheel movement &amp; vision, as GPS signal is no longer available.\n",
            "\n",
            "15)  Remarkable, although, as noted, there are big differences between humans and mice. We can cure a mouse of almost any cancer, but most of those cures don’t work with humans.\n",
            "\n",
            "16) Also, FSD Beta 10.12.2 now expanding to 100k cars. \n",
            "\n",
            "10.13 smooths out intersection control, especially long lefts, and starts to handle roads with no map data at all. \n",
            "\n",
            "Last point is a big deal. Within a few months, FSD should be able to drive to a GPS point with zero map data.\n",
            "\n",
            "17)    Interesting\n",
            "\n",
            "18)  Ah yes, Maxwell photobombing me at a  Oscars party – you should them why they invited her. \n",
            "\n",
            "The same people who push this photo say nothing about prominent people who actually went to his island a dozen times. Also very strange …\n",
            "\n",
            "19) _martine Are you saying that this is a far left taunt?\n",
            "\n",
            "20) Only thing more remarkable than DOJ not leaking the list is that no one in the media cares. Doesn’t that seem odd? \n",
            "\n",
            "21) Four Falcon Heavy flights later this year by an incredible team at SpaceX \n",
            "\n",
            "22)  Wow\n",
            "\n",
            "23)  Interesting\n",
            "\n",
            "24)  Fallout 3, NV &amp; 4 were great\n",
            "\n",
            "25)  Both the far left &amp; far right have a lot of hate. \n",
            "\n",
            "One could simply replace the word “far” with “loathing”, as they have that emotion a lot, whereas most people, who are moderates, do not.\n",
            "\n",
            "26) _07 True\n",
            "\n",
            "27)  The press always plays along with the class-action law firms, who are the real plaintiffs, not the puppets they find to masquerade as such. Why is this?\n",
            "\n",
            "28)  Wow\n",
            "\n",
            "29)  Nice work by OpenAI. It is hard to do useful things.\n",
            "\n",
            "30)   _   Good interview\n",
            "\n",
            "31)  Thanks Mr President!\n",
            "\n",
            "\n",
            "32)   That is its primary purpose\n",
            "\n",
            "33)  Open primaries sound like a good way to move candidates to be more centrist.\n",
            "\n",
            "Term limits help with the gerontocracy problem, but, frankly, there should be a max age beyond which you can’t run (maybe 70?), just like there are min ages for house, senate &amp; president.\n",
            "\n",
            "34)   Thanks, and also well done to you for advancing electric vehicles!\n",
            "\n",
            "35)  Once again, Bob nails it.\n",
            "\n",
            "Yes, I am endorsing a political candidate because he is competent!\n",
            "\n",
            "36) It is rare for me to endorse political candidates. \n",
            "\n",
            "My political leanings are moderate, so neither fully Republican nor Democrat, which I am confident is the case for most Americans.\n",
            "\n",
            "Executive competence is super underrated in politics – we should care about that a lot more!\n",
            "\n",
            "37) Los Angeles is fortunate to have someone like Rick Caruso running for mayor. He’s awesome.\n",
            "\n",
            "38)  Tesla AI Day #2 will be epic\n",
            "\n",
            "39)  The above set of tweets illustrate why recessions serve a vital economic cleansing function\n",
            "\n",
            "40) _155  I never wanted to be CEO – just wanted to work on product/technology. Bill Harris sounded like he would be a great CEO, given his Intuit experience, but he was not.\n",
            "\n",
            "Running companies hurts my heart, but I don’t see any other way to bring technology &amp; design to fruition.\n",
            "\n"
          ]
        }
      ]
    },
    {
      "cell_type": "code",
      "source": [
        "# Printing all the negative tweets\n",
        "sortedDf=df.sort_values(by=['Polarity'])\n",
        "\n",
        "count=1\n",
        "for i in range(len(sortedDf)):\n",
        "    if sortedDf['Analysis'][i]=='Negative':\n",
        "        print(str(count)+') '+sortedDf['Tweets'][i]+'\\n')\n",
        "        count+=1"
      ],
      "metadata": {
        "colab": {
          "base_uri": "https://localhost:8080/"
        },
        "id": "6iXVSXa72oVU",
        "outputId": "7d45e822-c14a-469d-e9ba-880f3a1ca07c"
      },
      "execution_count": 17,
      "outputs": [
        {
          "output_type": "stream",
          "name": "stdout",
          "text": [
            "1)   We will look into this &amp; adjust. In general, I’d recommend against using recirc, as the range advantage is small.\n",
            "\n",
            "2)  Seems odd that anyone would mistake a talking wolf for their grandmother. What sort of octave range does that wolf have anyway!?\n",
            "\n",
            "3) If chess was released as a video game \n",
            "\n",
            "4) The acid test for any two competing socioeconomic systems is which side needs to build a wall to keep people from escaping? That’s the bad one!\n",
            "\n",
            "5) Realized what I have in common with environmentalists, but also why they’re so annoyingly wrong: \n",
            "\n",
            "They are conservationists of what is, whereas they should be conservationists of our potential over time, our cosmic endowment.\n",
            "\n",
            "(From a friend)\n",
            "\n",
            "6)  There are so many crazy rules like this that make it extremely difficult to build anything new in California\n",
            "\n",
            "7) Some hate humanity, but I love humanity so much\n",
            "\n",
            "8) Making life multiplanetary expands the scope &amp; scale of consciousness. \n",
            "\n",
            "It also enables us to backup the biosphere, protecting all life as we know it from a calamity on Earth.\n",
            "\n",
            "Humanity is life’s steward, as no other species can transport life to Mars. We can’t let them down.\n",
            "\n",
            "9)  Total headcount will increase, but salaried should be fairly flat\n",
            "\n",
            "10)  They also usually have no sense of humor, apart from mocking the other side\n",
            "\n",
            "11)  Often, when we announce something, we hear simultaneous criticism that it’s already been done, but also that it’s impossible 🤣🤣\n",
            "\n",
            "12)  _elon My bro &amp; I had dinner at the El Camino Jack in the Box almost every night around late 95. Some people had died from food poisoning a few years earlier, so prices were low. \n",
            "\n",
            "13)  70 is currently the age when you receive maximum social security benefits. In other words, that’s when the govt concludes that you can’t hold a job!!\n",
            "\n",
            "14)     Everyone eats same food, uses same restrooms, etc – no executive chef or other ivory tower stuff. \n",
            "\n",
            "There shouldn’t be this workers vs management two-class system. Everyone is a worker.\n",
            "\n",
            "15)     Transformers are replacing C heuristics for post-processing of the vision NN’s “giant bag of points”.\n",
            "\n",
            "[Side note: I hate the bloated mess that is modern C++, but love simple C, as you know what it will compile to in terms of actual CPU operations.]\n",
            "\n"
          ]
        }
      ]
    },
    {
      "cell_type": "code",
      "source": [
        "# Printing all the neutral tweets\n",
        "sortedDf=df.sort_values(by=['Polarity'])\n",
        "\n",
        "count=1\n",
        "for i in range(len(sortedDf)):\n",
        "    if sortedDf['Analysis'][i]=='Neutral':\n",
        "        print(str(count)+') '+sortedDf['Tweets'][i]+'\\n')\n",
        "        count+=1"
      ],
      "metadata": {
        "colab": {
          "base_uri": "https://localhost:8080/"
        },
        "id": "uMHO_zkm4H2j",
        "outputId": "ed88db4e-334a-4486-87ae-3b70fde5c027"
      },
      "execution_count": 18,
      "outputs": [
        {
          "output_type": "stream",
          "name": "stdout",
          "text": [
            "1)  👀\n",
            "\n",
            "2)  I think I saw these in Elden Ring\n",
            "\n",
            "3) \n",
            "\n",
            "4)  🤣\n",
            "\n",
            "5) YouTube seems to be nonstop scam ads\n",
            "\n",
            "6)   It looks like the future\n",
            "\n",
            "7)  cgi irl\n",
            "\n",
            "8) What resolution is life in, 8k? – SJM\n",
            "\n",
            "9)  Correct\n",
            "\n",
            "10)   🤣\n",
            "\n",
            "11)  Romeo and Juliet\n",
            "\n",
            "12)  🤣👍\n",
            "\n",
            "13)   Such a dapper fellow!\n",
            "\n",
            "14) _Skeptic We are a brain in a vat – the vat is our skull. All our senses and memories are electrical signals.\n",
            "\n",
            "15) : HEPA air filter in Model Y, S and X removes &gt;99.97% of dust, pollen, mold, bacteria and any airborne particles \n",
            "\n",
            "16)  Maybe we should make an actual Starship model that dispenses pez for our merch store\n",
            "\n",
            "17) Deck from SpaceX all-hands update talk I gave last week \n",
            "\n",
            "18)  It should be possible\n",
            "\n",
            "19)  That is why we must expand the scope &amp; scale of consciousness – so that we may learn the answers to these questions\n",
            "\n",
            "20)    Not perfect, but should be better\n",
            "\n",
            "21) _g_fischer We are close to the point where offering something for EU regulators to review makes sense\n",
            "\n",
            "22) Working on Tesla North American service. \n",
            "\n",
            "Goal is 2/3 of cars receive same-day service, no wait.\n",
            "\n",
            "23)  BTS music videos are 🔥🔥\n",
            "\n",
            "24)  🎯\n",
            "\n",
            "25) Sometimes I think my list of enemies is too short, so …\n",
            "\n",
            "26)  Same\n",
            "\n",
            "27)  Sigh\n",
            "\n",
            "28)   Yeah\n",
            "\n",
            "29)  Some of these options should be on by default and explicitly asked of users from time to time\n",
            "\n",
            "30)  Quality commenters on /.\n",
            "\n",
            "31) Getty watermark is the coup de grâce \n",
            "\n",
            "32) Diabolical! \n",
            "\n",
            "33) \n",
            "\n",
            "34)  Sigh\n",
            "\n",
            "35)  👍\n",
            "\n",
            "36) Johnny Rotten of The Sex Pistols \n",
            "\n",
            "37)  🥳\n",
            "\n",
            "38)  _tooze  That is quite the trend\n",
            "\n",
            "39) _feed !!\n",
            "\n",
            "40)  No\n",
            "\n",
            "41) Tesla AI Day pushed to Sept 30, as we may have an Optimus prototype working by then\n",
            "\n",
            "42)    Cryogenic proof test passed\n",
            "\n",
            "43)  😉\n",
            "\n",
            "44)   Yeah\n",
            "\n",
            "45)  Similar thing happened to X/PayPal in March 2000\n",
            "\n"
          ]
        }
      ]
    },
    {
      "cell_type": "markdown",
      "source": [
        "# **Plotting graph of polarity and subjectivity**"
      ],
      "metadata": {
        "id": "WfDnaW5HEY10"
      }
    },
    {
      "cell_type": "code",
      "source": [
        "# Plot the polarity and subjectivity \n",
        "plt.figure(figsize=(8,6))\n",
        "plt.scatter(df['Polarity'],df['Subjectivity'],color=\"Blue\")\n",
        "plt.title(\"Sentiment Analysis\")\n",
        "plt.xlabel(\"Polarity\")\n",
        "plt.ylabel(\"Subjectivity\")\n",
        "plt.show()"
      ],
      "metadata": {
        "colab": {
          "base_uri": "https://localhost:8080/",
          "height": 441
        },
        "id": "uKnleskS7jKA",
        "outputId": "38cdb75f-8688-4859-fd10-fcb4247e6401"
      },
      "execution_count": 19,
      "outputs": [
        {
          "output_type": "display_data",
          "data": {
            "text/plain": [
              "<Figure size 576x432 with 1 Axes>"
            ],
            "image/png": "[encoded data removed]"
          },
          "metadata": {}
        }
      ]
    },
    {
      "cell_type": "markdown",
      "source": [
        "# **Calculating percentage of positive, negative and neutral tweets**"
      ],
      "metadata": {
        "id": "G90j5TPPEfOC"
      }
    },
    {
      "cell_type": "code",
      "source": [
        "# Get the percentage of positive tweets\n",
        "ptweets=df[df.Analysis=='Positive']\n",
        "ptweet=ptweets['Tweets']\n",
        "val=round(len(ptweet)/len(df)*100,1)\n",
        "val"
      ],
      "metadata": {
        "colab": {
          "base_uri": "https://localhost:8080/"
        },
        "id": "YsCqlH9-8Jv5",
        "outputId": "a4c6e765-0986-49d3-eec1-bc80647d529a"
      },
      "execution_count": 20,
      "outputs": [
        {
          "output_type": "execute_result",
          "data": {
            "text/plain": [
              "40.0"
            ]
          },
          "metadata": {},
          "execution_count": 20
        }
      ]
    },
    {
      "cell_type": "code",
      "source": [
        "# Get the percentage of negative tweets\n",
        "ptweets=df[df.Analysis=='Negative']\n",
        "ptweet=ptweets['Tweets']\n",
        "val=round(len(ptweet)/len(df)*100,1)\n",
        "val"
      ],
      "metadata": {
        "colab": {
          "base_uri": "https://localhost:8080/"
        },
        "id": "wV6xZzei-PQv",
        "outputId": "ec2ff2cd-d498-40ac-96c1-acb88c85bcb9"
      },
      "execution_count": 21,
      "outputs": [
        {
          "output_type": "execute_result",
          "data": {
            "text/plain": [
              "15.0"
            ]
          },
          "metadata": {},
          "execution_count": 21
        }
      ]
    },
    {
      "cell_type": "code",
      "source": [
        "# Get the percentage of neutral tweets\n",
        "ptweets=df[df.Analysis=='Neutral']\n",
        "ptweet=ptweets['Tweets']\n",
        "val=round(len(ptweet)/len(df)*100,1)\n",
        "val"
      ],
      "metadata": {
        "colab": {
          "base_uri": "https://localhost:8080/"
        },
        "id": "7K38nzPo_X7m",
        "outputId": "c3eb5060-76e0-4214-80a7-d42ac9da4f23"
      },
      "execution_count": 22,
      "outputs": [
        {
          "output_type": "execute_result",
          "data": {
            "text/plain": [
              "45.0"
            ]
          },
          "metadata": {},
          "execution_count": 22
        }
      ]
    },
    {
      "cell_type": "markdown",
      "source": [
        "# **Plotting graph for positive, negative and neutral posts.**"
      ],
      "metadata": {
        "id": "HSLUYysUElcS"
      }
    },
    {
      "cell_type": "code",
      "source": [
        "# Show the value counts\n",
        "Counts=df['Analysis'].value_counts()\n",
        "\n",
        "# plot and visualize the counts\n",
        "plt.title(\"Sentiment Analysis\")\n",
        "plt.xlabel('Sentiment')\n",
        "plt.ylabel('Counts')\n",
        "df['Analysis'].value_counts().plot(kind='bar')\n",
        "plt.show()"
      ],
      "metadata": {
        "colab": {
          "base_uri": "https://localhost:8080/",
          "height": 374
        },
        "id": "2g3KFTz1_dl6",
        "outputId": "b9388e77-81eb-409e-c7b4-4478fb9bac30"
      },
      "execution_count": 23,
      "outputs": [
        {
          "output_type": "display_data",
          "data": {
            "text/plain": [
              "<Figure size 432x288 with 1 Axes>"
            ],
            "image/png": "[encoded data removed]"
          },
          "metadata": {}
        }
      ]
    }
  ]
}